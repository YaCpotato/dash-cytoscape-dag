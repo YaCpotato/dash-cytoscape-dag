{
  "nbformat": 4,
  "nbformat_minor": 0,
  "metadata": {
    "colab": {
      "name": "dash-cytoscape-dag.ipynb",
      "provenance": [],
      "collapsed_sections": [],
      "authorship_tag": "ABX9TyOpNCeYZrCBOkbfqg5CrgSx",
      "include_colab_link": true
    },
    "kernelspec": {
      "name": "python3",
      "display_name": "Python 3"
    }
  },
  "cells": [
    {
      "cell_type": "markdown",
      "metadata": {
        "id": "view-in-github",
        "colab_type": "text"
      },
      "source": [
        "<a href=\"https://colab.research.google.com/github/YaCpotato/dash-cytoscape-dag/blob/master/dash_cytoscape_dag.ipynb\" target=\"_parent\"><img src=\"https://colab.research.google.com/assets/colab-badge.svg\" alt=\"Open In Colab\"/></a>"
      ]
    },
    {
      "cell_type": "code",
      "metadata": {
        "id": "sEoshjeNY1rp"
      },
      "source": [
        "!pip install pandas dash jupyter-dash dash-cytoscape"
      ],
      "execution_count": null,
      "outputs": []
    },
    {
      "cell_type": "code",
      "metadata": {
        "id": "K9c1N6V_ZZ-J"
      },
      "source": [
        "from jupyter_dash import JupyterDash\n",
        "import dash\n",
        "import dash_html_components as html\n",
        "import dash_cytoscape as cyto"
      ],
      "execution_count": null,
      "outputs": []
    },
    {
      "cell_type": "code",
      "metadata": {
        "id": "VmodUs7mY9eM"
      },
      "source": [
        "app = JupyterDash()"
      ],
      "execution_count": null,
      "outputs": []
    },
    {
      "cell_type": "code",
      "metadata": {
        "id": "qzBXxEadZYKi"
      },
      "source": [
        "elements = [\n",
        "    {'data': {'id': 'A'}},\n",
        "    {'data': {'id': 'B'}},\n",
        "    {'data': {'id': 'C'}},\n",
        "    {'data': {'id': 'D'}},\n",
        "    {'data': {'id': 'E'}},\n",
        "    {'data': {'id': 'F'}},\n",
        "    {'data': {'id': 'AC', 'weight': 5, 'source': 'A', 'target': 'C'}},\n",
        "    {'data': {'id': 'AB', 'weight': 3, 'source': 'A', 'target': 'B'}},\n",
        "    {'data': {'id': 'BD', 'weight': 1, 'source': 'B', 'target': 'D'}},\n",
        "    {'data': {'id': 'BE', 'weight': 2, 'source': 'B', 'target': 'E'}},\n",
        "    {'data': {'id': 'CD', 'weight': 7, 'source': 'C', 'target': 'D'}},\n",
        "    {'data': {'id': 'CE', 'weight': 2, 'source': 'C', 'target': 'E'}},\n",
        "    {'data': {'id': 'DF', 'weight': 4, 'source': 'D', 'target': 'F'}},\n",
        "    {'data': {'id': 'EF', 'weight': 5, 'source': 'E', 'target': 'F'}}\n",
        "]\n",
        "\n",
        "app.layout = html.Div([\n",
        "    cyto.Cytoscape(\n",
        "        id='cytoscape',\n",
        "        elements=elements,\n",
        "        layout={\n",
        "            'name': 'circle',\n",
        "            'padding': 10\n",
        "        },\n",
        "        stylesheet=[{\n",
        "            'selector': 'node',\n",
        "            'style': {\n",
        "                'width': '60px',\n",
        "                'height': '60px',\n",
        "                'content': 'data(id)',\n",
        "                }\n",
        "        }, {\n",
        "            'selector': 'edge',\n",
        "            'style': {\n",
        "                'curve-style': 'bezier',\n",
        "                'label': 'data(weight)',\n",
        "                'width': 'data(weight)',\n",
        "                'target-arrow-shape': 'triangle',\n",
        "                'opacity': 0.5\n",
        "            }\n",
        "        }],\n",
        "        style={\n",
        "            'width': '100%',\n",
        "            'height': '100%',\n",
        "            'position': 'absolute',\n",
        "            'left': 0,\n",
        "            'top': 0\n",
        "        }\n",
        "    )\n",
        "])"
      ],
      "execution_count": null,
      "outputs": []
    },
    {
      "cell_type": "code",
      "metadata": {
        "colab": {
          "base_uri": "https://localhost:8080/",
          "height": 671
        },
        "id": "ADt39AdTaY7j",
        "outputId": "f9db965f-1745-49ac-9578-8e64438ff2cd"
      },
      "source": [
        "app.run_server(mode=\"inline\")"
      ],
      "execution_count": 9,
      "outputs": [
        {
          "output_type": "display_data",
          "data": {
            "application/javascript": [
              "(async (port, path, width, height, cache, element) => {\n",
              "    if (!google.colab.kernel.accessAllowed && !cache) {\n",
              "      return;\n",
              "    }\n",
              "    element.appendChild(document.createTextNode(''));\n",
              "    const url = await google.colab.kernel.proxyPort(port, {cache});\n",
              "    const iframe = document.createElement('iframe');\n",
              "    iframe.src = url + path;\n",
              "    iframe.height = height;\n",
              "    iframe.width = width;\n",
              "    iframe.style.border = 0;\n",
              "    element.appendChild(iframe);\n",
              "  })(8050, \"/\", \"100%\", 650, false, window.element)"
            ],
            "text/plain": [
              "<IPython.core.display.Javascript object>"
            ]
          },
          "metadata": {
            "tags": []
          }
        }
      ]
    },
    {
      "cell_type": "code",
      "metadata": {
        "id": "bmM5iFifmvfW"
      },
      "source": [
        "import numpy as np\n",
        "from scipy.sparse.csgraph import shortest_path, floyd_warshall, dijkstra, bellman_ford, johnson\n",
        "from scipy.sparse import csr_matrix"
      ],
      "execution_count": 16,
      "outputs": []
    },
    {
      "cell_type": "code",
      "metadata": {
        "id": "zt7igeyoabBU"
      },
      "source": [
        " l = [[0, 3, 5, 0, 0, 0],\n",
        "      [0, 0, 0, 1, 2, 0],\n",
        "      [0, 0, 0, 7, 2, 0],\n",
        "      [0, 0, 0, 0, 0, 4],\n",
        "      [0, 0, 0, 0, 0, 5],\n",
        "      [0, 0, 0, 0, 0, 0]]"
      ],
      "execution_count": 15,
      "outputs": []
    },
    {
      "cell_type": "code",
      "metadata": {
        "colab": {
          "base_uri": "https://localhost:8080/"
        },
        "id": "5QpyfGedqbQa",
        "outputId": "a4b154dd-f247-46d3-ac79-ea9bd12e10f0"
      },
      "source": [
        "csr = csr_matrix(l)\n",
        "print(shortest_path(csr, indices=0))"
      ],
      "execution_count": 14,
      "outputs": [
        {
          "output_type": "stream",
          "text": [
            "[0. 3. 5. 4. 5. 8.]\n"
          ],
          "name": "stdout"
        }
      ]
    }
  ]
}